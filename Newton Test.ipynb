{
 "cells": [
  {
   "cell_type": "code",
   "execution_count": 2,
   "metadata": {},
   "outputs": [
    {
     "name": "stdout",
     "output_type": "stream",
     "text": [
      "[[-3.15199171]\n",
      " [-0.40585887]\n",
      " [ 1.81504991]]\n",
      "[[-3.05974654]\n",
      " [-0.56975371]\n",
      " [ 1.89970566]]\n",
      "[[-3.07034543]\n",
      " [-0.57698163]\n",
      " [ 1.91357396]]\n",
      "[[-3.07041245]\n",
      " [-0.57702751]\n",
      " [ 1.91369206]]\n",
      "[[-3.07041245]\n",
      " [-0.57702752]\n",
      " [ 1.91369207]]\n"
     ]
    }
   ],
   "source": [
    "#newton's method\n",
    "import numpy as np\n",
    "def newton(theta0):\n",
    "    X=np.array([[1,0,3],[1,1,3],[1,0,1],[1,1,1]])\n",
    "    y=np.array([[1],[1],[0],[0]])\n",
    "    lamada=0.07\n",
    "    I=np.array([[1,0,0],[0,1,0],[0,0,1]])\n",
    "    def h(x):\n",
    "        return 1/(1+np.exp(-x@theta0))\n",
    "    s=np.zeros((4,4))\n",
    "    np.fill_diagonal(s,[ list(h(X[0])*(1-h(X[0])))[0],list(h(X[1])*(1-h(X[1])))[0],\n",
    "                        list(h(X[2])*(1-h(X[2])))[0], list(h(X[3])*(1-h(X[3])))[0]] )\n",
    "    sum1=0\n",
    "    for i in range(0,4):\n",
    "        sum1=sum1+(y[i]-h(X[i]))*X[i]    \n",
    "\n",
    "    Jdot0=-1/4*sum1+lamada/4*theta0.T\n",
    "    H=1/4*(X.T@s@X)+1/4*lamada*I\n",
    "\n",
    "    theta1=theta0-np.linalg.inv(H)@Jdot0.T\n",
    "    return theta1\n",
    "theta0=np.array([[0,-2,1]]).T\n",
    "for i in range (5):\n",
    "    print(newton(theta0))\n",
    "    theta0=newton(theta0)\n"
   ]
  },
  {
   "cell_type": "code",
   "execution_count": null,
   "metadata": {},
   "outputs": [],
   "source": []
  }
 ],
 "metadata": {
  "kernelspec": {
   "display_name": "Python 3",
   "language": "python",
   "name": "python3"
  },
  "language_info": {
   "codemirror_mode": {
    "name": "ipython",
    "version": 3
   },
   "file_extension": ".py",
   "mimetype": "text/x-python",
   "name": "python",
   "nbconvert_exporter": "python",
   "pygments_lexer": "ipython3",
   "version": "3.7.4"
  }
 },
 "nbformat": 4,
 "nbformat_minor": 2
}
